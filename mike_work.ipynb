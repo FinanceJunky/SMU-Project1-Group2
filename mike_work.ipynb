{
 "cells": [
  {
   "cell_type": "code",
   "execution_count": 1,
   "metadata": {},
   "outputs": [],
   "source": [
    "#------Mike Hughes Work\n"
   ]
  },
  {
   "cell_type": "code",
   "execution_count": 29,
   "metadata": {},
   "outputs": [],
   "source": [
    "# Dependencies and Setup\n",
    "import matplotlib.pyplot as plt\n",
    "import pandas as pd\n",
    "import numpy as np\n",
    "import requests\n",
    "import time\n",
    "import json\n",
    "from pprint import pprint\n",
    "import datetime\n",
    "import os\n",
    "\n",
    "# Output File (CSV)\n",
    "output_data_file = \"../output_data/reviews.csv\""
   ]
  },
  {
   "cell_type": "code",
   "execution_count": null,
   "metadata": {},
   "outputs": [],
   "source": [
    "\n"
   ]
  },
  {
   "cell_type": "code",
   "execution_count": 33,
   "metadata": {},
   "outputs": [],
   "source": [
    "filepath = os.path.join(\"Resources/yelp_academic_dataset_business.json\")\n",
    "data = []\n",
    "with open(filepath, encoding=\"utf-8\") as jsonfile:\n",
    "    for line in jsonfile:\n",
    "        data.append(json.loads(line))\n"
   ]
  },
  {
   "cell_type": "code",
   "execution_count": 44,
   "metadata": {},
   "outputs": [],
   "source": [
    "df = pd.io.json.json_normalize(data)"
   ]
  },
  {
   "cell_type": "code",
   "execution_count": 58,
   "metadata": {},
   "outputs": [
    {
     "data": {
      "text/html": [
       "<div>\n",
       "<style scoped>\n",
       "    .dataframe tbody tr th:only-of-type {\n",
       "        vertical-align: middle;\n",
       "    }\n",
       "\n",
       "    .dataframe tbody tr th {\n",
       "        vertical-align: top;\n",
       "    }\n",
       "\n",
       "    .dataframe thead th {\n",
       "        text-align: right;\n",
       "    }\n",
       "</style>\n",
       "<table border=\"1\" class=\"dataframe\">\n",
       "  <thead>\n",
       "    <tr style=\"text-align: right;\">\n",
       "      <th></th>\n",
       "      <th>address</th>\n",
       "      <th>attributes</th>\n",
       "      <th>attributes.AcceptsInsurance</th>\n",
       "      <th>attributes.AgesAllowed</th>\n",
       "      <th>attributes.Alcohol</th>\n",
       "      <th>attributes.Ambience</th>\n",
       "      <th>attributes.BYOB</th>\n",
       "      <th>attributes.BYOBCorkage</th>\n",
       "      <th>attributes.BestNights</th>\n",
       "      <th>attributes.BikeParking</th>\n",
       "      <th>...</th>\n",
       "      <th>hours.Tuesday</th>\n",
       "      <th>hours.Wednesday</th>\n",
       "      <th>is_open</th>\n",
       "      <th>latitude</th>\n",
       "      <th>longitude</th>\n",
       "      <th>name</th>\n",
       "      <th>postal_code</th>\n",
       "      <th>review_count</th>\n",
       "      <th>stars</th>\n",
       "      <th>state</th>\n",
       "    </tr>\n",
       "  </thead>\n",
       "  <tbody>\n",
       "    <tr>\n",
       "      <th>0</th>\n",
       "      <td>2818 E Camino Acequia Drive</td>\n",
       "      <td>NaN</td>\n",
       "      <td>NaN</td>\n",
       "      <td>NaN</td>\n",
       "      <td>NaN</td>\n",
       "      <td>NaN</td>\n",
       "      <td>NaN</td>\n",
       "      <td>NaN</td>\n",
       "      <td>NaN</td>\n",
       "      <td>NaN</td>\n",
       "      <td>...</td>\n",
       "      <td>NaN</td>\n",
       "      <td>NaN</td>\n",
       "      <td>0</td>\n",
       "      <td>33.522143</td>\n",
       "      <td>-112.018481</td>\n",
       "      <td>Arizona Biltmore Golf Club</td>\n",
       "      <td>85016</td>\n",
       "      <td>5</td>\n",
       "      <td>3.0</td>\n",
       "      <td>AZ</td>\n",
       "    </tr>\n",
       "    <tr>\n",
       "      <th>1</th>\n",
       "      <td>30 Eglinton Avenue W</td>\n",
       "      <td>NaN</td>\n",
       "      <td>NaN</td>\n",
       "      <td>NaN</td>\n",
       "      <td>u'full_bar'</td>\n",
       "      <td>{'romantic': False, 'intimate': False, 'classy...</td>\n",
       "      <td>NaN</td>\n",
       "      <td>NaN</td>\n",
       "      <td>NaN</td>\n",
       "      <td>False</td>\n",
       "      <td>...</td>\n",
       "      <td>9:0-0:0</td>\n",
       "      <td>9:0-0:0</td>\n",
       "      <td>1</td>\n",
       "      <td>43.605499</td>\n",
       "      <td>-79.652289</td>\n",
       "      <td>Emerald Chinese Restaurant</td>\n",
       "      <td>L5R 3E7</td>\n",
       "      <td>128</td>\n",
       "      <td>2.5</td>\n",
       "      <td>ON</td>\n",
       "    </tr>\n",
       "    <tr>\n",
       "      <th>2</th>\n",
       "      <td>10110 Johnston Rd, Ste 15</td>\n",
       "      <td>NaN</td>\n",
       "      <td>NaN</td>\n",
       "      <td>NaN</td>\n",
       "      <td>u'beer_and_wine'</td>\n",
       "      <td>{'romantic': False, 'intimate': False, 'touris...</td>\n",
       "      <td>NaN</td>\n",
       "      <td>NaN</td>\n",
       "      <td>NaN</td>\n",
       "      <td>True</td>\n",
       "      <td>...</td>\n",
       "      <td>NaN</td>\n",
       "      <td>17:30-21:30</td>\n",
       "      <td>1</td>\n",
       "      <td>35.092564</td>\n",
       "      <td>-80.859132</td>\n",
       "      <td>Musashi Japanese Restaurant</td>\n",
       "      <td>28210</td>\n",
       "      <td>170</td>\n",
       "      <td>4.0</td>\n",
       "      <td>NC</td>\n",
       "    </tr>\n",
       "    <tr>\n",
       "      <th>3</th>\n",
       "      <td>15655 W Roosevelt St, Ste 237</td>\n",
       "      <td>NaN</td>\n",
       "      <td>NaN</td>\n",
       "      <td>NaN</td>\n",
       "      <td>NaN</td>\n",
       "      <td>NaN</td>\n",
       "      <td>NaN</td>\n",
       "      <td>NaN</td>\n",
       "      <td>NaN</td>\n",
       "      <td>NaN</td>\n",
       "      <td>...</td>\n",
       "      <td>8:0-17:0</td>\n",
       "      <td>8:0-17:0</td>\n",
       "      <td>1</td>\n",
       "      <td>33.455613</td>\n",
       "      <td>-112.395596</td>\n",
       "      <td>Farmers Insurance - Paul Lorenz</td>\n",
       "      <td>85338</td>\n",
       "      <td>3</td>\n",
       "      <td>5.0</td>\n",
       "      <td>AZ</td>\n",
       "    </tr>\n",
       "    <tr>\n",
       "      <th>4</th>\n",
       "      <td>4209 Stuart Andrew Blvd, Ste F</td>\n",
       "      <td>NaN</td>\n",
       "      <td>NaN</td>\n",
       "      <td>NaN</td>\n",
       "      <td>NaN</td>\n",
       "      <td>NaN</td>\n",
       "      <td>NaN</td>\n",
       "      <td>NaN</td>\n",
       "      <td>NaN</td>\n",
       "      <td>NaN</td>\n",
       "      <td>...</td>\n",
       "      <td>7:0-23:0</td>\n",
       "      <td>7:0-23:0</td>\n",
       "      <td>1</td>\n",
       "      <td>35.190012</td>\n",
       "      <td>-80.887223</td>\n",
       "      <td>Queen City Plumbing</td>\n",
       "      <td>28217</td>\n",
       "      <td>4</td>\n",
       "      <td>4.0</td>\n",
       "      <td>NC</td>\n",
       "    </tr>\n",
       "  </tbody>\n",
       "</table>\n",
       "<p>5 rows × 60 columns</p>\n",
       "</div>"
      ],
      "text/plain": [
       "                          address  attributes attributes.AcceptsInsurance  \\\n",
       "0     2818 E Camino Acequia Drive         NaN                         NaN   \n",
       "1            30 Eglinton Avenue W         NaN                         NaN   \n",
       "2       10110 Johnston Rd, Ste 15         NaN                         NaN   \n",
       "3   15655 W Roosevelt St, Ste 237         NaN                         NaN   \n",
       "4  4209 Stuart Andrew Blvd, Ste F         NaN                         NaN   \n",
       "\n",
       "  attributes.AgesAllowed attributes.Alcohol  \\\n",
       "0                    NaN                NaN   \n",
       "1                    NaN        u'full_bar'   \n",
       "2                    NaN   u'beer_and_wine'   \n",
       "3                    NaN                NaN   \n",
       "4                    NaN                NaN   \n",
       "\n",
       "                                 attributes.Ambience attributes.BYOB  \\\n",
       "0                                                NaN             NaN   \n",
       "1  {'romantic': False, 'intimate': False, 'classy...             NaN   \n",
       "2  {'romantic': False, 'intimate': False, 'touris...             NaN   \n",
       "3                                                NaN             NaN   \n",
       "4                                                NaN             NaN   \n",
       "\n",
       "  attributes.BYOBCorkage attributes.BestNights attributes.BikeParking  ...  \\\n",
       "0                    NaN                   NaN                    NaN  ...   \n",
       "1                    NaN                   NaN                  False  ...   \n",
       "2                    NaN                   NaN                   True  ...   \n",
       "3                    NaN                   NaN                    NaN  ...   \n",
       "4                    NaN                   NaN                    NaN  ...   \n",
       "\n",
       "  hours.Tuesday hours.Wednesday is_open   latitude   longitude  \\\n",
       "0           NaN             NaN       0  33.522143 -112.018481   \n",
       "1       9:0-0:0         9:0-0:0       1  43.605499  -79.652289   \n",
       "2           NaN     17:30-21:30       1  35.092564  -80.859132   \n",
       "3      8:0-17:0        8:0-17:0       1  33.455613 -112.395596   \n",
       "4      7:0-23:0        7:0-23:0       1  35.190012  -80.887223   \n",
       "\n",
       "                              name postal_code review_count stars state  \n",
       "0       Arizona Biltmore Golf Club       85016            5   3.0    AZ  \n",
       "1       Emerald Chinese Restaurant     L5R 3E7          128   2.5    ON  \n",
       "2      Musashi Japanese Restaurant       28210          170   4.0    NC  \n",
       "3  Farmers Insurance - Paul Lorenz       85338            3   5.0    AZ  \n",
       "4              Queen City Plumbing       28217            4   4.0    NC  \n",
       "\n",
       "[5 rows x 60 columns]"
      ]
     },
     "execution_count": 58,
     "metadata": {},
     "output_type": "execute_result"
    }
   ],
   "source": [
    "df.head()\n"
   ]
  },
  {
   "cell_type": "code",
   "execution_count": 45,
   "metadata": {},
   "outputs": [
    {
     "data": {
      "text/plain": [
       "Index(['address', 'attributes', 'attributes.AcceptsInsurance',\n",
       "       'attributes.AgesAllowed', 'attributes.Alcohol', 'attributes.Ambience',\n",
       "       'attributes.BYOB', 'attributes.BYOBCorkage', 'attributes.BestNights',\n",
       "       'attributes.BikeParking', 'attributes.BusinessAcceptsBitcoin',\n",
       "       'attributes.BusinessAcceptsCreditCards', 'attributes.BusinessParking',\n",
       "       'attributes.ByAppointmentOnly', 'attributes.Caters',\n",
       "       'attributes.CoatCheck', 'attributes.Corkage',\n",
       "       'attributes.DietaryRestrictions', 'attributes.DogsAllowed',\n",
       "       'attributes.DriveThru', 'attributes.GoodForDancing',\n",
       "       'attributes.GoodForKids', 'attributes.GoodForMeal',\n",
       "       'attributes.HairSpecializesIn', 'attributes.HappyHour',\n",
       "       'attributes.HasTV', 'attributes.Music', 'attributes.NoiseLevel',\n",
       "       'attributes.Open24Hours', 'attributes.OutdoorSeating',\n",
       "       'attributes.RestaurantsAttire', 'attributes.RestaurantsCounterService',\n",
       "       'attributes.RestaurantsDelivery', 'attributes.RestaurantsGoodForGroups',\n",
       "       'attributes.RestaurantsPriceRange2',\n",
       "       'attributes.RestaurantsReservations',\n",
       "       'attributes.RestaurantsTableService', 'attributes.RestaurantsTakeOut',\n",
       "       'attributes.Smoking', 'attributes.WheelchairAccessible',\n",
       "       'attributes.WiFi', 'business_id', 'categories', 'city', 'hours',\n",
       "       'hours.Friday', 'hours.Monday', 'hours.Saturday', 'hours.Sunday',\n",
       "       'hours.Thursday', 'hours.Tuesday', 'hours.Wednesday', 'is_open',\n",
       "       'latitude', 'longitude', 'name', 'postal_code', 'review_count', 'stars',\n",
       "       'state'],\n",
       "      dtype='object')"
      ]
     },
     "execution_count": 45,
     "metadata": {},
     "output_type": "execute_result"
    }
   ],
   "source": [
    "df.columns"
   ]
  },
  {
   "cell_type": "code",
   "execution_count": 49,
   "metadata": {},
   "outputs": [
    {
     "data": {
      "text/plain": [
       "192609"
      ]
     },
     "execution_count": 49,
     "metadata": {},
     "output_type": "execute_result"
    }
   ],
   "source": [
    "len(df)"
   ]
  },
  {
   "cell_type": "code",
   "execution_count": 51,
   "metadata": {},
   "outputs": [
    {
     "name": "stdout",
     "output_type": "stream",
     "text": [
      "<class 'pandas.core.frame.DataFrame'>\n",
      "RangeIndex: 192609 entries, 0 to 192608\n",
      "Data columns (total 60 columns):\n",
      "address                                  192609 non-null object\n",
      "attributes                               0 non-null float64\n",
      "attributes.AcceptsInsurance              7250 non-null object\n",
      "attributes.AgesAllowed                   123 non-null object\n",
      "attributes.Alcohol                       48463 non-null object\n",
      "attributes.Ambience                      48079 non-null object\n",
      "attributes.BYOB                          28 non-null object\n",
      "attributes.BYOBCorkage                   1423 non-null object\n",
      "attributes.BestNights                    3476 non-null object\n",
      "attributes.BikeParking                   85399 non-null object\n",
      "attributes.BusinessAcceptsBitcoin        13085 non-null object\n",
      "attributes.BusinessAcceptsCreditCards    113133 non-null object\n",
      "attributes.BusinessParking               103713 non-null object\n",
      "attributes.ByAppointmentOnly             46853 non-null object\n",
      "attributes.Caters                        40628 non-null object\n",
      "attributes.CoatCheck                     3506 non-null object\n",
      "attributes.Corkage                       662 non-null object\n",
      "attributes.DietaryRestrictions           59 non-null object\n",
      "attributes.DogsAllowed                   7435 non-null object\n",
      "attributes.DriveThru                     3192 non-null object\n",
      "attributes.GoodForDancing                4742 non-null object\n",
      "attributes.GoodForKids                   66310 non-null object\n",
      "attributes.GoodForMeal                   29926 non-null object\n",
      "attributes.HairSpecializesIn             1006 non-null object\n",
      "attributes.HappyHour                     5206 non-null object\n",
      "attributes.HasTV                         48098 non-null object\n",
      "attributes.Music                         5249 non-null object\n",
      "attributes.NoiseLevel                    43879 non-null object\n",
      "attributes.Open24Hours                   13 non-null object\n",
      "attributes.OutdoorSeating                54823 non-null object\n",
      "attributes.RestaurantsAttire             48639 non-null object\n",
      "attributes.RestaurantsCounterService     11 non-null object\n",
      "attributes.RestaurantsDelivery           52522 non-null object\n",
      "attributes.RestaurantsGoodForGroups      54718 non-null object\n",
      "attributes.RestaurantsPriceRange2        108179 non-null object\n",
      "attributes.RestaurantsReservations       52287 non-null object\n",
      "attributes.RestaurantsTableService       17173 non-null object\n",
      "attributes.RestaurantsTakeOut            62077 non-null object\n",
      "attributes.Smoking                       3498 non-null object\n",
      "attributes.WheelchairAccessible          19959 non-null object\n",
      "attributes.WiFi                          50064 non-null object\n",
      "business_id                              192609 non-null object\n",
      "categories                               192127 non-null object\n",
      "city                                     192609 non-null object\n",
      "hours                                    0 non-null float64\n",
      "hours.Friday                             145174 non-null object\n",
      "hours.Monday                             135767 non-null object\n",
      "hours.Saturday                           125861 non-null object\n",
      "hours.Sunday                             91336 non-null object\n",
      "hours.Thursday                           145903 non-null object\n",
      "hours.Tuesday                            143428 non-null object\n",
      "hours.Wednesday                          145157 non-null object\n",
      "is_open                                  192609 non-null int64\n",
      "latitude                                 192609 non-null float64\n",
      "longitude                                192609 non-null float64\n",
      "name                                     192609 non-null object\n",
      "postal_code                              192609 non-null object\n",
      "review_count                             192609 non-null int64\n",
      "stars                                    192609 non-null float64\n",
      "state                                    192609 non-null object\n",
      "dtypes: float64(5), int64(2), object(53)\n",
      "memory usage: 88.2+ MB\n"
     ]
    }
   ],
   "source": [
    "df.info()"
   ]
  },
  {
   "cell_type": "code",
   "execution_count": 52,
   "metadata": {},
   "outputs": [
    {
     "data": {
      "text/plain": [
       "4.0    35969\n",
       "3.5    35008\n",
       "5.0    28216\n",
       "4.5    27301\n",
       "3.0    25996\n",
       "2.5    18843\n",
       "2.0    11426\n",
       "1.5     4976\n",
       "1.0     4874\n",
       "Name: stars, dtype: int64"
      ]
     },
     "execution_count": 52,
     "metadata": {},
     "output_type": "execute_result"
    }
   ],
   "source": [
    "df.stars.value_counts()"
   ]
  },
  {
   "cell_type": "code",
   "execution_count": 54,
   "metadata": {},
   "outputs": [
    {
     "data": {
      "text/plain": [
       "<matplotlib.axes._subplots.AxesSubplot at 0x1bc3efc3080>"
      ]
     },
     "execution_count": 54,
     "metadata": {},
     "output_type": "execute_result"
    },
    {
     "data": {
      "image/png": "[encoded data removed]",
      "text/plain": [
       "<Figure size 432x288 with 1 Axes>"
      ]
     },
     "metadata": {
      "needs_background": "light"
     },
     "output_type": "display_data"
    }
   ],
   "source": [
    "df.stars.value_counts().plot(kind=\"barh\")"
   ]
  },
  {
   "cell_type": "code",
   "execution_count": 56,
   "metadata": {},
   "outputs": [
    {
     "data": {
      "text/plain": [
       "AZ     56686\n",
       "NV     36312\n",
       "ON     33412\n",
       "NC     14720\n",
       "OH     14697\n",
       "PA     11216\n",
       "QC      9219\n",
       "AB      8012\n",
       "WI      5154\n",
       "IL      1932\n",
       "SC      1162\n",
       "NY        22\n",
       "CA        19\n",
       "TX         6\n",
       "FL         4\n",
       "XGM        4\n",
       "WA         3\n",
       "AL         3\n",
       "CT         3\n",
       "VA         2\n",
       "VT         2\n",
       "GA         2\n",
       "AK         2\n",
       "XWY        2\n",
       "NE         2\n",
       "BAS        1\n",
       "AR         1\n",
       "DOW        1\n",
       "BC         1\n",
       "NM         1\n",
       "DUR        1\n",
       "XGL        1\n",
       "UT         1\n",
       "NJ         1\n",
       "TN         1\n",
       "CON        1\n",
       "Name: state, dtype: int64"
      ]
     },
     "execution_count": 56,
     "metadata": {},
     "output_type": "execute_result"
    }
   ],
   "source": [
    "df.state.value_counts()"
   ]
  },
  {
   "cell_type": "code",
   "execution_count": 57,
   "metadata": {},
   "outputs": [],
   "source": [
    "df.to_csv(\"yelp_data.csv\", index=False)"
   ]
  },
  {
   "cell_type": "code",
   "execution_count": null,
   "metadata": {},
   "outputs": [],
   "source": []
  }
 ],
 "metadata": {
  "kernelspec": {
   "display_name": "Python 3",
   "language": "python",
   "name": "python3"
  },
  "language_info": {
   "codemirror_mode": {
    "name": "ipython",
    "version": 3
   },
   "file_extension": ".py",
   "mimetype": "text/x-python",
   "name": "python",
   "nbconvert_exporter": "python",
   "pygments_lexer": "ipython3",
   "version": "3.7.3"
  }
 },
 "nbformat": 4,
 "nbformat_minor": 2
}
